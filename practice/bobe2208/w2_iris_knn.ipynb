{
  "nbformat": 4,
  "nbformat_minor": 0,
  "metadata": {
    "colab": {
      "name": "iris_knn.ipynb",
      "provenance": [],
      "collapsed_sections": []
    },
    "kernelspec": {
      "name": "python3",
      "display_name": "Python 3"
    },
    "language_info": {
      "name": "python"
    }
  },
  "cells": [
    {
      "cell_type": "markdown",
      "source": [
        "## 필요한 라이브러리 사용을 위해서 "
      ],
      "metadata": {
        "id": "RRgGHpvMGlfD"
      }
    },
    {
      "cell_type": "code",
      "source": [
        "import numpy as num\n",
        "import matplotlib.pyplot as plot\n",
        "import seaborn as sb\n",
        "from matplotlib.colors import ListedColormap\n",
        "from sklearn import neighbors, datasets"
      ],
      "metadata": {
        "id": "dzlk1eIeFYHf"
      },
      "execution_count": null,
      "outputs": []
    },
    {
      "cell_type": "markdown",
      "source": [
        "# 단계1. 데이터 불러오기 - iris(붓꽃) \n",
        "\n",
        "|sepal length (cm)|sepal width (cm)|petal length (cm)|petal width (cm)|class|\n",
        "|---|---|---|---|---|\n",
        "|5.1|3.5|1.4|0.2|0|\n",
        "|4.9|3.|1.4|0.2|0|\n",
        "|4.7|3.2|1.3|0.2|0|\n",
        "|6.2|2.8|4.8|1.8|1|\n",
        "|6.1|3.|4.9|1.8|1|\n",
        "|6.2|3.4|5.4|2.3|2|\n",
        "\n",
        "* sepal /sepl/ 꽃받침\n",
        "* petal /petl/ 꽃잎\n",
        "* cllass: [0] 'setosa' , [1]'versicolor', [3]'virginica'\n",
        "\n",
        "https://medium.com/@Nivitus./iris-flower-classification-machine-learning-d4e337140fa4"
      ],
      "metadata": {
        "id": "tidMc46wHkrJ"
      }
    },
    {
      "cell_type": "code",
      "source": [
        "iris = datasets.load_iris()\n",
        "iris"
      ],
      "metadata": {
        "id": "LmFoViNhFYCl"
      },
      "execution_count": null,
      "outputs": []
    },
    {
      "cell_type": "markdown",
      "source": [
        "# 단계2: training data, training label 선정"
      ],
      "metadata": {
        "id": "yjHyhX6zKoeR"
      }
    },
    {
      "cell_type": "code",
      "source": [
        "X = iris.data[:, :2]\n",
        "y = iris.target\n",
        "print(X[:10],y[:10])"
      ],
      "metadata": {
        "id": "KROChJPRFX_U"
      },
      "execution_count": null,
      "outputs": []
    },
    {
      "cell_type": "markdown",
      "source": [
        "# 단계3. KNN 학습하기"
      ],
      "metadata": {
        "id": "ALSRUZR0Kt8g"
      }
    },
    {
      "cell_type": "code",
      "source": [
        "n_neighbors=7\n",
        "classifier = neighbors.KNeighborsClassifier(n_neighbors=n_neighbors)\n",
        "classifier.fit(X, y)\n"
      ],
      "metadata": {
        "id": "E22NNnWWGZps"
      },
      "execution_count": null,
      "outputs": []
    },
    {
      "cell_type": "markdown",
      "source": [
        "# 단계4. 학습결과 평가하기"
      ],
      "metadata": {
        "id": "yu2LmSCVOfV8"
      }
    },
    {
      "cell_type": "code",
      "source": [
        "y_predict = classifier.predict(X)\n",
        "print(\"y_predict\\n\", y_predict)\n",
        "print(\"y\\n\", y)\n",
        "\n",
        "hit_count = 0\n",
        "for i in range(len(y)):\n",
        "  if y[i] == y_predict[i]:\n",
        "    hit_count += 1\n",
        "print(f\"Accuracy: {hit_count/len(y)*100:.1f} % ({hit_count}/{len(y)})\")"
      ],
      "metadata": {
        "id": "tGMhG_RiN7KX"
      },
      "execution_count": null,
      "outputs": []
    },
    {
      "cell_type": "markdown",
      "source": [
        "# 학습에 의한 각 클래스 영역 색칠하기"
      ],
      "metadata": {
        "id": "nSjjpFwXK02D"
      }
    },
    {
      "cell_type": "code",
      "source": [
        "x_min, x_max = X[:, 0].min() - 1, X[:, 0].max() + 1\n",
        "y_min, y_max = X[:, 1].min() - 1, X[:, 1].max() + 1\n",
        "h = 0.04\n",
        "xx, yy = num.meshgrid(num.arange(x_min, x_max, h), num.arange(y_min, y_max, h))\n",
        "Z = classifier.predict(num.c_[xx.ravel(), yy.ravel()])\n",
        "Z = Z.reshape(xx.shape)\n",
        "plot.figure(figsize=(8, 6))\n",
        "\n",
        "colormap_light = ListedColormap([\"yellow\", \"orange\", \"lightblue\"])\n",
        "plot.contourf(xx, yy, Z, colormap=colormap_light)"
      ],
      "metadata": {
        "id": "VJkUxsSIKLIR"
      },
      "execution_count": null,
      "outputs": []
    },
    {
      "cell_type": "markdown",
      "source": [
        "# KNN의 예측결과를 scatter(점뿌리기)로 그려보기"
      ],
      "metadata": {
        "id": "dxhnOxyLMtUf"
      }
    },
    {
      "cell_type": "code",
      "source": [
        "colormap_bold = [\"pink\", \"c\", \"darkblue\"]\n",
        "sb.scatterplot(\n",
        "    x=X[:, 0],\n",
        "    y=X[:, 1],\n",
        "    hue=iris.target_names[y],\n",
        "    palette=colormap_bold,\n",
        "    # alpha=1.0,\n",
        "    # edgecolor=\"brown\",\n",
        ")\n",
        "plot.xlim(xx.min(), xx.max())\n",
        "plot.ylim(yy.min(), yy.max())\n",
        "plot.title(\n",
        "    f\"3-Class classification (k = {n_neighbors}\"\n",
        ")\n",
        "plot.xlabel(iris.feature_names[0])\n",
        "plot.ylabel(iris.feature_names[1])"
      ],
      "metadata": {
        "id": "CbcqgLEbLy6X"
      },
      "execution_count": null,
      "outputs": []
    },
    {
      "cell_type": "code",
      "source": [
        "\n",
        "x_min, x_max = X[:, 0].min() - 1, X[:, 0].max() + 1\n",
        "y_min, y_max = X[:, 1].min() - 1, X[:, 1].max() + 1\n",
        "h = 0.04\n",
        "xx, yy = num.meshgrid(num.arange(x_min, x_max, h), num.arange(y_min, y_max, h))\n",
        "Z = classifier.predict(num.c_[xx.ravel(), yy.ravel()])\n",
        "Z = Z.reshape(xx.shape)\n",
        "plot.figure(figsize=(8, 6))\n",
        "\n",
        "colormap_light = ListedColormap([\"yellow\", \"orange\", \"lightblue\"])\n",
        "plot.contourf(xx, yy, Z, colormap=colormap_light)\n",
        "\n",
        "colormap_bold = [\"pink\", \"c\", \"darkblue\"]\n",
        "sb.scatterplot(\n",
        "    x=X[:, 0],\n",
        "    y=X[:, 1],\n",
        "    hue=iris.target_names[y],\n",
        "    palette=colormap_bold,\n",
        "    # alpha=1.0,\n",
        "    # edgecolor=\"brown\",\n",
        ")\n",
        "plot.xlim(xx.min(), xx.max())\n",
        "plot.ylim(yy.min(), yy.max())\n",
        "plot.title(\n",
        "    f\"3-Class classification (k = {n_neighbors}\"\n",
        ")\n",
        "plot.xlabel(iris.feature_names[0])\n",
        "plot.ylabel(iris.feature_names[1])"
      ],
      "metadata": {
        "id": "Zx0iHSVdMWmG"
      },
      "execution_count": null,
      "outputs": []
    },
    {
      "cell_type": "code",
      "source": [
        "def knn(n_neighbors, X, y):\n",
        "  classifier = neighbors.KNeighborsClassifier(n_neighbors=n_neighbors)\n",
        "  classifier.fit(X, y)\n",
        "\n",
        "  x_min, x_max = X[:, 0].min() - 1, X[:, 0].max() + 1\n",
        "  y_min, y_max = X[:, 1].min() - 1, X[:, 1].max() + 1\n",
        "  h = 0.04\n",
        "  xx, yy = num.meshgrid(num.arange(x_min, x_max, h), num.arange(y_min, y_max, h))\n",
        "  Z = classifier.predict(num.c_[xx.ravel(), yy.ravel()])\n",
        "  Z = Z.reshape(xx.shape)\n",
        "  plot.figure(figsize=(8, 6))\n",
        "\n",
        "  colormap_light = ListedColormap([\"yellow\", \"orange\", \"lightblue\"])\n",
        "  plot.contourf(xx, yy, Z, colormap=colormap_light)\n",
        "\n",
        "  colormap_bold = [\"pink\", \"c\", \"darkblue\"]\n",
        "  sb.scatterplot(\n",
        "      x=X[:, 0],\n",
        "      y=X[:, 1],\n",
        "      hue=iris.target_names[y],\n",
        "      palette=colormap_bold,\n",
        "      alpha=1.0,\n",
        "      edgecolor=\"brown\",\n",
        "  )\n",
        "  plot.xlim(xx.min(), xx.max())\n",
        "  plot.ylim(yy.min(), yy.max())\n",
        "\n",
        "  y_predict = classifier.predict(X)\n",
        "  hit_count=0\n",
        "  for i in range(len(y)):\n",
        "    if y[i] == y_predict[i]:\n",
        "      hit_count += 1\n",
        "\n",
        "  plot.title(\n",
        "      f\"KNN 3-Class classification (k={n_neighbors}, \"\n",
        "      f\"acc={hit_count/len(y)*100:.1f} % ({hit_count}/{len(y)})\"\n",
        "  )\n",
        "  plot.xlabel(iris.feature_names[0])\n",
        "  plot.ylabel(iris.feature_names[1])"
      ],
      "metadata": {
        "id": "8Dd5EXjOGi4K"
      },
      "execution_count": null,
      "outputs": []
    },
    {
      "cell_type": "code",
      "source": [
        "knn(7, X, y)"
      ],
      "metadata": {
        "id": "_CKxwU4CFX8T"
      },
      "execution_count": null,
      "outputs": []
    },
    {
      "cell_type": "code",
      "source": [
        "knn(3, X, y)"
      ],
      "metadata": {
        "id": "QhMxFzOwFX3U"
      },
      "execution_count": null,
      "outputs": []
    },
    {
      "cell_type": "code",
      "source": [
        "knn(17, X, y)"
      ],
      "metadata": {
        "id": "mZHnsRb5FXsu"
      },
      "execution_count": null,
      "outputs": []
    },
    {
      "cell_type": "code",
      "source": [
        "knn(17, X, y)"
      ],
      "metadata": {
        "id": "FjWWJ34vR22w"
      },
      "execution_count": null,
      "outputs": []
    },
    {
      "cell_type": "code",
      "source": [
        "knn(3,iris.data[:, 1:3],y)"
      ],
      "metadata": {
        "id": "R-rV1XCCR2xZ"
      },
      "execution_count": null,
      "outputs": []
    },
    {
      "cell_type": "markdown",
      "source": [
        ""
      ],
      "metadata": {
        "id": "O1W_aT6dR2bi"
      }
    }
  ]
}