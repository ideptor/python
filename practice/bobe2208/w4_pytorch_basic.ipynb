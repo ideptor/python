{
 "cells": [
  {
   "cell_type": "code",
   "execution_count": null,
   "id": "d130a04f-063f-44c6-af24-c0ee250aac44",
   "metadata": {},
   "outputs": [],
   "source": [
    "# pytorch 설치 버전 확인\n",
    "try:\n",
    "  import torch\n",
    "  print(torch.__version__)\n",
    "except ImportError:\n",
    "  !pip3 install torch==1.10.1+cpu torchvision==0.11.2+cpu -f https://download.pytorch.org/whl/cpu/torch_stable.html"
   ]
  },
  {
   "cell_type": "markdown",
   "id": "62182d30-4f43-4c0b-990c-1a70e0443f8d",
   "metadata": {},
   "source": [
    "# Pytorch \n",
    "\n",
    "> 파이토치는 2017년 초에 공개된 딥러닝 프레임워크로  \n",
    "개발자들과 연구자들이 쉽게 GPU를 활용하여  \n",
    "인공 신경망 모델을 만들고 학습시킬 수 있게 도와준다.  \n",
    ">\n",
    "> 파이토치의 전신이라고 할 수 있는 토치(torch)는  \n",
    "루아 프로그래밍 언어로 되어 있었지만,  \n",
    "파이토치는 파이썬으로 작성되어 파이썬의 언어 특징을 많이 가지고 있다.  \n",
    ">\n",
    "> 파이토치는 페이스북의 인공지능 연구팀 멤버들이 주로 관리하고 있다."
   ]
  },
  {
   "cell_type": "markdown",
   "id": "9db324ac-0129-4d89-ab97-902b0da99a9c",
   "metadata": {},
   "source": [
    "# Tensor\n",
    "\n",
    "> 텐서(tensor)는 배열(array)이나 행렬(matrix)과 매우 유사한 특수한 자료구조입니다.  \n",
    "PyTorch에서는 텐서를 사용하여 모델의 입력과 출력뿐만 아니라  \n",
    "모델의 매개변수(weight)를 부호화(encode)합니다.\n",
    "> \n",
    "> GPU나 다른 연산 가속을 위한 특수한 하드웨어에서 실행할 수 있다는 점을 제외하면,  \n",
    "텐서는 NumPy의 ndarray와 매우 유사합니다."
   ]
  },
  {
   "cell_type": "code",
   "execution_count": null,
   "id": "5f85e269-7447-4746-aa03-4b5d9ebd7402",
   "metadata": {},
   "outputs": [],
   "source": [
    "# Create tensor of ones (FloatTensor by default)\n",
    "ones = torch.ones(3, 2)\n",
    "print(ones)\n",
    "zeros = torch.zeros(3,3)\n",
    "print(zeros)"
   ]
  },
  {
   "cell_type": "code",
   "execution_count": null,
   "id": "fbc4757c-a806-4f49-99a3-41f32c28a2e2",
   "metadata": {},
   "outputs": [],
   "source": [
    "# Display the shape of a tensor\n",
    "# it can be used as a tuple\n",
    "print(ones.size())\n",
    "print(ones.shape)"
   ]
  },
  {
   "cell_type": "code",
   "execution_count": null,
   "id": "65fab129-5813-4499-9ae3-28fba4f11351",
   "metadata": {},
   "outputs": [],
   "source": [
    "t = torch.Tensor([[[1,2],[3,4]],[[5,6],[7,8]],[[9,10],[11,12]]])\n",
    "t1d = t.view(-1)\n",
    "t2d = t.view(4,3)\n",
    "print(t.size)\n",
    "print(t)\n",
    "print(t1d.size()) \n",
    "print(t1d)\n",
    "print(t2d.size())\n",
    "print(t2d)"
   ]
  },
  {
   "cell_type": "markdown",
   "id": "d6326f74-c3eb-49a2-be61-8e2130099722",
   "metadata": {},
   "source": [
    "# Tensor grad"
   ]
  },
  {
   "cell_type": "code",
   "execution_count": null,
   "id": "c1530816-32da-4cbb-9da8-629fbd30349a",
   "metadata": {},
   "outputs": [],
   "source": [
    "# Create a tensor and tell PyTorch\n",
    "# that we want to compute the gradient\n",
    "x = torch.randn(1, requires_grad=True)\n",
    "print(\"x:\", x)\n",
    "\n",
    "# Transformation constants\n",
    "a = 2\n",
    "b = 7\n",
    "\n",
    "# Define the tranformation and store the result\n",
    "# in a new variable\n",
    "y = a * x + b\n",
    "print(\"y:\",y)"
   ]
  },
  {
   "cell_type": "code",
   "execution_count": null,
   "id": "e2e9e50c-06b6-46e3-ab4c-cd4d8849b28d",
   "metadata": {},
   "outputs": [],
   "source": [
    "y.backward()"
   ]
  },
  {
   "cell_type": "markdown",
   "id": "0b798b77-cf72-4b2c-abda-d9f980d57ee8",
   "metadata": {},
   "source": [
    "`x.grad` prints the gradient:\n",
    "\n",
    "$$\\frac{dy}{dx} = a$$\n",
    "\n",
    "because:\n",
    "\n",
    "$$y = a \\cdot x + b$$"
   ]
  },
  {
   "cell_type": "code",
   "execution_count": null,
   "id": "bdddc5d4-8a45-44a5-9276-73175ca75926",
   "metadata": {},
   "outputs": [],
   "source": [
    "print(\"x.grad\", x.grad)"
   ]
  },
  {
   "cell_type": "markdown",
   "id": "f11d49a6-4df6-46a8-9fec-b9ef86c8cc45",
   "metadata": {},
   "source": [
    "# GPU 사용 가능여부 확인"
   ]
  },
  {
   "cell_type": "code",
   "execution_count": null,
   "id": "d8630f3e-1a7e-493c-bcdb-be014aab642f",
   "metadata": {},
   "outputs": [],
   "source": [
    "import torch\n",
    "print(\"torch.cuda.is_availible(): \", torch.cuda.is_available())\n",
    "print(\"torch.cuda.get_device_name(): \", torch.cuda.get_device_name())"
   ]
  },
  {
   "cell_type": "markdown",
   "id": "aa42ecf4-b7e3-451c-8d22-f0b7cb6bbc0f",
   "metadata": {
    "tags": []
   },
   "source": [
    "# GPU와 CPU 성능 확인\n",
    "\n",
    "1000 * 1000 matrix 연산\n",
    "\n",
    "> `Ctrl` + `Enter`를 눌러서 반복 실행해보세요"
   ]
  },
  {
   "cell_type": "code",
   "execution_count": null,
   "id": "c2a17c55-4abb-4402-a00c-b5e729ce2d56",
   "metadata": {},
   "outputs": [],
   "source": [
    "import torch\n",
    "import time\n",
    "\n",
    "if torch.cuda.is_available():\n",
    "  \n",
    "    x = torch.ones(1000, 1000).to(torch.device(\"cpu\"))\n",
    "    y = 2 * x + 3\n",
    "    start_time = time.time()\n",
    "  \n",
    "    # Matrix multiplication (for benchmark purpose)\n",
    "    results = torch.mm(x, y)\n",
    "    time_cpu = time.time() - start_time\n",
    "\n",
    "    # Do the same calculation but on the gpu\n",
    "    # First move tensors to gpu\n",
    "    x = x.to(\"cuda\")\n",
    "    y = y.to(\"cuda\")\n",
    "    start_time = time.time()\n",
    "    # Matrix multiplication (for benchmark purpose)\n",
    "    results = torch.mm(x, y)\n",
    "    time_gpu = time.time() - start_time\n",
    "    if time_gpu == 0:\n",
    "        time_gpu = 0.0000001\n",
    "    print(\"Time on CPU: {:.7f}s \\t Time on GPU: {:.7f}s\".format(time_cpu, time_gpu))\n",
    "    print(\"Speed up: Computation was {:.0f}X faster on GPU!\".format(time_cpu / time_gpu))\n",
    "\n",
    "else:\n",
    "    print(\"You need to enable GPU accelaration in colab (runtime->change runtime type)\")"
   ]
  },
  {
   "cell_type": "code",
   "execution_count": null,
   "id": "5d0f4d1d-b5d2-4c55-ab5b-55994877003d",
   "metadata": {},
   "outputs": [],
   "source": []
  }
 ],
 "metadata": {
  "kernelspec": {
   "display_name": "Python 3 (ipykernel)",
   "language": "python",
   "name": "python3"
  },
  "language_info": {
   "codemirror_mode": {
    "name": "ipython",
    "version": 3
   },
   "file_extension": ".py",
   "mimetype": "text/x-python",
   "name": "python",
   "nbconvert_exporter": "python",
   "pygments_lexer": "ipython3",
   "version": "3.8.8"
  }
 },
 "nbformat": 4,
 "nbformat_minor": 5
}
