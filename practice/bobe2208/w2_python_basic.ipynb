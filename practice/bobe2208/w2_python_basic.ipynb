{
  "cells": [
    {
      "cell_type": "markdown",
      "metadata": {
        "id": "6NMUFuP9TUdg"
      },
      "source": [
        "# 출력 - print()"
      ]
    },
    {
      "cell_type": "code",
      "execution_count": null,
      "metadata": {
        "id": "ZnPzI7syTUdk"
      },
      "outputs": [],
      "source": [
        "# \"\" 혹은 '' 안에 있는 내용을 출력합니다.\n",
        "print(\"hello world\")"
      ]
    },
    {
      "cell_type": "code",
      "execution_count": null,
      "metadata": {
        "cellView": "code",
        "id": "8MXMeOfWTUdm"
      },
      "outputs": [],
      "source": [
        "#@title 기본 제목 텍스트\n",
        "# \\가 앞에 오면 특수 문자로 사용됩니다.\n",
        "# \\n: new line\n",
        "print(\"hello world\\ngood bye\")"
      ]
    },
    {
      "cell_type": "code",
      "execution_count": null,
      "metadata": {
        "id": "5MACGo5UKLjn"
      },
      "outputs": [],
      "source": [
        "# \\t: tab\n",
        "print(\"hello world\\tgood bye\")"
      ]
    },
    {
      "cell_type": "code",
      "execution_count": null,
      "metadata": {
        "id": "bd-Ap2-ZKDGW"
      },
      "outputs": [],
      "source": [
        "# \\\": \" 출력\n",
        "print(\"\\\"hello world\\\" good bye\")"
      ]
    },
    {
      "cell_type": "code",
      "execution_count": null,
      "metadata": {
        "id": "MiWlKydCKLF_"
      },
      "outputs": [],
      "source": [
        "# \\\\ : \\ 출력\n",
        "print(\"hello world\\\\good bye\")"
      ]
    },
    {
      "cell_type": "code",
      "execution_count": null,
      "metadata": {
        "id": "DF5_X78ITUdm"
      },
      "outputs": [],
      "source": [
        "# a라는 저장소에 \"hello world\" 라는 값을 저장하면\n",
        "# 앞으로 a 가 저장한 \"hello world\"의 값을 계속 사용할 수 있습니다.\n",
        "a = \"hello world\"\n",
        "print(a)"
      ]
    },
    {
      "cell_type": "code",
      "execution_count": null,
      "metadata": {
        "id": "oSFKsvqKTUdn"
      },
      "outputs": [],
      "source": [
        "# print() 함수 안에서는 , 로 구분하여 여러가지 문자를 출력할 수 있습니다.\n",
        "a = \"hello world\"\n",
        "b = \"good bye\"\n",
        "print(a, \"|\", b)"
      ]
    },
    {
      "cell_type": "markdown",
      "metadata": {
        "id": "QZgsSgLFTUdo"
      },
      "source": [
        "# 연산1\n",
        "\n",
        "## 사칙연산"
      ]
    },
    {
      "cell_type": "code",
      "execution_count": null,
      "metadata": {
        "id": "x-WWbo9FTUdo"
      },
      "outputs": [],
      "source": [
        "print(1+2)"
      ]
    },
    {
      "cell_type": "code",
      "execution_count": null,
      "metadata": {
        "id": "TqKgbVOETUdp"
      },
      "outputs": [],
      "source": [
        "print(1-2)"
      ]
    },
    {
      "cell_type": "code",
      "execution_count": null,
      "metadata": {
        "id": "xjOB1HylTUdq"
      },
      "outputs": [],
      "source": [
        "print(1*2)"
      ]
    },
    {
      "cell_type": "code",
      "execution_count": null,
      "metadata": {
        "id": "yZLUSLtYTUdq"
      },
      "outputs": [],
      "source": [
        "print(1/2)"
      ]
    },
    {
      "cell_type": "markdown",
      "metadata": {
        "id": "JerIp9MRovoT"
      },
      "source": [
        "## 나누기 관련 "
      ]
    },
    {
      "cell_type": "code",
      "execution_count": null,
      "metadata": {
        "id": "RD-uzI8aTUdr"
      },
      "outputs": [],
      "source": [
        "print(5/2) # 나누기"
      ]
    },
    {
      "cell_type": "code",
      "execution_count": null,
      "metadata": {
        "id": "4ZklPZm0TUdr"
      },
      "outputs": [],
      "source": [
        "print(5//2) # 몫"
      ]
    },
    {
      "cell_type": "code",
      "execution_count": null,
      "metadata": {
        "id": "6Vm0PotXTUdr"
      },
      "outputs": [],
      "source": [
        "print(5%2) # 나머지"
      ]
    },
    {
      "cell_type": "markdown",
      "metadata": {
        "id": "2be35quxovoV"
      },
      "source": [
        "## 괄호로 연산순서 조정"
      ]
    },
    {
      "cell_type": "code",
      "execution_count": null,
      "metadata": {
        "id": "WI440x1wMClt"
      },
      "outputs": [],
      "source": [
        "print(1+2*3-4)"
      ]
    },
    {
      "cell_type": "code",
      "execution_count": null,
      "metadata": {
        "id": "C4uwKa6gTUds"
      },
      "outputs": [],
      "source": [
        "print((1+2)*(3-4))"
      ]
    },
    {
      "cell_type": "markdown",
      "metadata": {
        "id": "CGIVqeq7ovoW"
      },
      "source": [
        "## 비교연산자\n",
        "결과 값은 `True` 또는 `False`로 나옴"
      ]
    },
    {
      "cell_type": "code",
      "execution_count": null,
      "metadata": {
        "id": "vz4MyDkxTUds"
      },
      "outputs": [],
      "source": [
        "# 같다 (==)\n",
        "print(1==2)"
      ]
    },
    {
      "cell_type": "code",
      "execution_count": null,
      "metadata": {
        "id": "iCOqX219TUds"
      },
      "outputs": [],
      "source": [
        "# 다르다 (!=)\n",
        "print(1!=2)"
      ]
    },
    {
      "cell_type": "code",
      "execution_count": null,
      "metadata": {
        "id": "E5eaWX9aTUdt"
      },
      "outputs": [],
      "source": [
        "# 왼쪽이 오른쪽보다  크다(>)  / 왼쪽이 오른쪽보다 크거나 작다 (>=)\n",
        "print(1>2)\n",
        "print(1>=2)"
      ]
    },
    {
      "cell_type": "code",
      "execution_count": null,
      "metadata": {
        "id": "hz78BuTeTUdt"
      },
      "outputs": [],
      "source": [
        "# # 왼쪽이 오른쪽보다  작다(<)  / 왼쪽이 오른쪽보다 작거나 작다 (<=)\n",
        "print(1<2)\n",
        "print(1<=2)\n",
        "print(2<2)\n",
        "print(2<=2)"
      ]
    },
    {
      "cell_type": "markdown",
      "metadata": {
        "id": "7qUjKZ3-ovoY"
      },
      "source": [
        "## 논리연산자\n",
        "\n",
        "`and` : 둘다 `True` 일때만 `True`, 그 외에는 `False`  \n",
        "`or` : 둘 중 하나만 `True`여도 `True`, 둘다 `False` 이면 `False`\n",
        "\n",
        "|left|expression|right|result|\n",
        "|--|--|--|--|\n",
        "|True|and|True|**True**|\n",
        "|True|and|False|**False**|\n",
        "|False|and|True|**False**|\n",
        "|False|and|False|**False**|\n",
        "|True|or|True|**True**|\n",
        "|True|or|False|**True**|\n",
        "|False|or|True|**True**|\n",
        "|False|or|False|**False**|\n"
      ]
    },
    {
      "cell_type": "code",
      "execution_count": null,
      "metadata": {
        "id": "OUI8bMwKTUdt"
      },
      "outputs": [],
      "source": [
        "print(True and True)"
      ]
    },
    {
      "cell_type": "code",
      "execution_count": null,
      "metadata": {
        "id": "dTS4QenPTUdt"
      },
      "outputs": [],
      "source": [
        "print(True and False)"
      ]
    },
    {
      "cell_type": "code",
      "execution_count": null,
      "metadata": {
        "id": "eG3NSgLhTUdu"
      },
      "outputs": [],
      "source": [
        "print(True or False)"
      ]
    },
    {
      "cell_type": "code",
      "execution_count": null,
      "metadata": {
        "id": "J_cZOTbgTUdu"
      },
      "outputs": [],
      "source": [
        "print(False or False)"
      ]
    },
    {
      "cell_type": "markdown",
      "metadata": {
        "id": "9qqwkh0ETUdu"
      },
      "source": [
        "# type"
      ]
    },
    {
      "cell_type": "code",
      "execution_count": null,
      "metadata": {
        "id": "s06mPoD7TUdv"
      },
      "outputs": [],
      "source": [
        "# str\n",
        "a = \"hello\"\n",
        "type(a)"
      ]
    },
    {
      "cell_type": "code",
      "execution_count": null,
      "metadata": {
        "id": "l_nlYXiaTUdv"
      },
      "outputs": [],
      "source": [
        "# int\n",
        "a = 1\n",
        "type(a)"
      ]
    },
    {
      "cell_type": "code",
      "execution_count": null,
      "metadata": {
        "id": "ZFUh0m0hTUdv"
      },
      "outputs": [],
      "source": [
        "# float\n",
        "a = 1.5\n",
        "type(a)"
      ]
    },
    {
      "cell_type": "code",
      "execution_count": null,
      "metadata": {
        "id": "Droa9BIVTUdv"
      },
      "outputs": [],
      "source": [
        "# bool\n",
        "a = True\n",
        "type(a)"
      ]
    },
    {
      "cell_type": "code",
      "execution_count": null,
      "metadata": {
        "id": "yJZYmEayTUdv"
      },
      "outputs": [],
      "source": [
        "# 형변환\n",
        "a = 1.6\n",
        "b = int(a)\n",
        "print(a, type(a), b, type(b))"
      ]
    },
    {
      "cell_type": "code",
      "execution_count": null,
      "metadata": {
        "id": "DcTFfkfYTUdw"
      },
      "outputs": [],
      "source": [
        "# 반올림\n",
        "a = 1.6\n",
        "b = round(a)\n",
        "print(b)"
      ]
    },
    {
      "cell_type": "code",
      "execution_count": null,
      "metadata": {
        "id": "a_C-Vp4KTUdw"
      },
      "outputs": [],
      "source": [
        "# str과 str을 더하면?\n",
        "a = \"1\"\n",
        "b = \"1\"\n",
        "print(a+b)"
      ]
    },
    {
      "cell_type": "code",
      "execution_count": null,
      "metadata": {
        "id": "GCb5V9kXTUdw"
      },
      "outputs": [],
      "source": [
        "# int와 int를 더하면?\n",
        "print(int(a)+int(a))"
      ]
    },
    {
      "cell_type": "markdown",
      "metadata": {
        "id": "vUXQj-k3TUdw"
      },
      "source": [
        "# 함수"
      ]
    },
    {
      "cell_type": "code",
      "execution_count": null,
      "metadata": {
        "id": "QDT4L2yRTUdw"
      },
      "outputs": [],
      "source": [
        "\n",
        "def func(a, b):\n",
        "    return a + b\n",
        "\n",
        "c = func(1,2)\n",
        "d = func(3,4)\n",
        "print(c)\n",
        "print(d)\n",
        "print(func(5,6))"
      ]
    },
    {
      "cell_type": "markdown",
      "metadata": {
        "id": "R8bKisQwovod"
      },
      "source": [
        "## math 라이브러리 함수 활용"
      ]
    },
    {
      "cell_type": "code",
      "execution_count": null,
      "metadata": {
        "id": "2vhV1GhQLQK0"
      },
      "outputs": [],
      "source": [
        "import math\n",
        "\n",
        "print(math.ceil(1.6)) # 올림\n",
        "print(math.floor(1.6)) # 내림"
      ]
    },
    {
      "cell_type": "code",
      "execution_count": null,
      "metadata": {
        "id": "ltrVmPzxTUdw"
      },
      "outputs": [],
      "source": [
        "import math\n",
        "print(math.pow(2,3)) # 거듭제곱(power)"
      ]
    },
    {
      "cell_type": "code",
      "execution_count": null,
      "metadata": {
        "id": "iGiFyIatPEVJ"
      },
      "outputs": [],
      "source": [
        "print(math.pow(3,4))\n",
        "print(math.pow(2,10))"
      ]
    },
    {
      "cell_type": "code",
      "execution_count": null,
      "metadata": {
        "id": "NbLSgu-oTUdu"
      },
      "outputs": [],
      "source": [
        "print(math.sqrt(2)) # 제곱근"
      ]
    },
    {
      "cell_type": "code",
      "execution_count": null,
      "metadata": {
        "id": "NZWt0HjNTUdx"
      },
      "outputs": [],
      "source": [
        "degree = 60\n",
        "radian = math.radians(degree)\n",
        "print(math.sin(radian))"
      ]
    },
    {
      "cell_type": "code",
      "execution_count": null,
      "metadata": {
        "id": "EHW1K2fNTUdx"
      },
      "outputs": [],
      "source": [
        "help(math.pow)"
      ]
    },
    {
      "cell_type": "code",
      "execution_count": null,
      "metadata": {
        "id": "DuOgCF-FTUdx"
      },
      "outputs": [],
      "source": [
        "help(math.cos)"
      ]
    },
    {
      "cell_type": "markdown",
      "metadata": {
        "id": "xm516Ae9TUd0"
      },
      "source": [
        "# 조건문\n",
        "\n",
        "조건에 따라 다른 명령어를 수행하도록 하는 방법"
      ]
    },
    {
      "cell_type": "code",
      "execution_count": null,
      "metadata": {
        "id": "ItxvzUK5TUd0"
      },
      "outputs": [],
      "source": [
        "a = 5\n",
        "b = 3\n",
        "if a > b:\n",
        "    print(\"a is greater than b\")\n",
        "elif a < b:\n",
        "    print(\"a is less than b\")\n",
        "else:\n",
        "    print(\"a is the same as b\")"
      ]
    },
    {
      "cell_type": "code",
      "execution_count": null,
      "metadata": {
        "id": "QTSDRI4eJ1ge"
      },
      "outputs": [],
      "source": [
        "# input()  <- 키보드로 부터 입력받기\n",
        "c = input()\n",
        "print(\"input value is \", c)\n",
        "# c가 1 이면 a+b\n",
        "# c가 2 이면 a-b\n",
        "# c가 3 이면 a*b 를 출력하는 코드를 작성해보세요\n",
        "if c==1:\n",
        "    print(a+b)\n",
        "elif c==2:\n",
        "    # 코드 작성\n",
        "elif #코드작성\n",
        "    # 코드 작성"
      ]
    },
    {
      "cell_type": "markdown",
      "metadata": {
        "id": "fdTtNa2aTUd1"
      },
      "source": [
        "# 반복문 for\n",
        "\n",
        "for 반복문은 `in` 뒤에 존재하는 `문자열`, `리스트`, `튜플`을  \n",
        "순서대로 순회하면서 하나씩 하나씩 에 넣어줍니다."
      ]
    },
    {
      "cell_type": "code",
      "execution_count": null,
      "metadata": {
        "id": "8S5iFy26TUd1"
      },
      "outputs": [],
      "source": [
        "total = 0\n",
        "for i in range(10):\n",
        "    print(i)\n",
        "    total += i\n",
        "print(\"total:\", total)"
      ]
    },
    {
      "cell_type": "code",
      "execution_count": null,
      "metadata": {
        "id": "xJ6WiMdTTUd1"
      },
      "outputs": [],
      "source": [
        "names = [\"Tom\", \"David\", \"Elsa\"]\n",
        "for name in names:\n",
        "    print(\"Hello\", name)"
      ]
    },
    {
      "cell_type": "code",
      "execution_count": null,
      "metadata": {
        "id": "Lh5l9xMAJ1gf"
      },
      "outputs": [],
      "source": [
        "# enumerate: index를 포함하기\n",
        "names = [\"Tom\", \"David\", \"Elsa\"]\n",
        "for idx, name in enumerate(names):\n",
        "    print(idx, name)"
      ]
    },
    {
      "cell_type": "code",
      "execution_count": null,
      "metadata": {
        "colab": {
          "background_save": true
        },
        "id": "AnbXDOmhJ1gg"
      },
      "outputs": [],
      "source": [
        "# break - 루프 중간에 끝내기\n",
        "total = 0\n",
        "for i in range(10):\n",
        "    total += i\n",
        "    print(i, total)\n",
        "    if total >= 10:\n",
        "        break"
      ]
    },
    {
      "cell_type": "code",
      "execution_count": null,
      "metadata": {
        "id": "0dGuo2ufJ1gg"
      },
      "outputs": [],
      "source": [
        "# 문제\n",
        "# total = 1+2+3+... + N 일때,\n",
        "# total이  20보다 커지는 가장 작은 N을 찾기 위한 프로그램을 작성해보세요\n",
        "total = 0\n",
        "for i in range(10):\n",
        "    total += i\n",
        "    print(i, total)\n",
        "    # if문 삽입"
      ]
    },
    {
      "cell_type": "code",
      "execution_count": null,
      "metadata": {
        "id": "atLZ0iPdJ1gg"
      },
      "outputs": [],
      "source": [
        "# continue - 루프에서 아래코드를 실행하지 않고 건너뛰기\n",
        "# 1부터 10까지 짝수의 합만 구하는 프로그램"
      ]
    },
    {
      "cell_type": "markdown",
      "metadata": {
        "id": "8exleQg3TUdx"
      },
      "source": [
        "# 리스트 (배열)\n",
        "\n",
        "여러가지 값들의 모음을 저장"
      ]
    },
    {
      "cell_type": "code",
      "execution_count": null,
      "metadata": {
        "id": "MH9FOjEgTUdx"
      },
      "outputs": [],
      "source": [
        "a = [0, 1, 2, 3, 4, 5, 6, 7, 8, 9]"
      ]
    },
    {
      "cell_type": "code",
      "execution_count": null,
      "metadata": {
        "id": "mMHIZi4VTUdx"
      },
      "outputs": [],
      "source": [
        "len(a)"
      ]
    },
    {
      "cell_type": "code",
      "execution_count": null,
      "metadata": {
        "id": "hWxTn2olTUdy"
      },
      "outputs": [],
      "source": [
        "a[0]"
      ]
    },
    {
      "cell_type": "code",
      "execution_count": null,
      "metadata": {
        "id": "3A5K6zcgTUdy"
      },
      "outputs": [],
      "source": [
        "a[8]"
      ]
    },
    {
      "cell_type": "code",
      "execution_count": null,
      "metadata": {
        "id": "OS2zF-8LTUdy"
      },
      "outputs": [],
      "source": [
        "a[-2]"
      ]
    },
    {
      "cell_type": "code",
      "execution_count": null,
      "metadata": {
        "id": "sJ2k7jleTUdy"
      },
      "outputs": [],
      "source": [
        "a[10]  # error"
      ]
    },
    {
      "cell_type": "code",
      "execution_count": null,
      "metadata": {
        "id": "FK_KgCqJTUdy"
      },
      "outputs": [],
      "source": [
        "a[:2]"
      ]
    },
    {
      "cell_type": "code",
      "execution_count": null,
      "metadata": {
        "id": "cNIVpsHmTUdy"
      },
      "outputs": [],
      "source": [
        "a[8:]"
      ]
    },
    {
      "cell_type": "code",
      "execution_count": null,
      "metadata": {
        "id": "PhnU78h-TUdy"
      },
      "outputs": [],
      "source": [
        "a[-2]"
      ]
    },
    {
      "cell_type": "code",
      "execution_count": null,
      "metadata": {
        "id": "ic4vIjPBTUdz"
      },
      "outputs": [],
      "source": [
        "a[-2:]"
      ]
    },
    {
      "cell_type": "code",
      "execution_count": null,
      "metadata": {
        "id": "OpXW_t2DTUdz"
      },
      "outputs": [],
      "source": [
        "a[:-2]"
      ]
    },
    {
      "cell_type": "code",
      "execution_count": null,
      "metadata": {
        "id": "VVzo-pBATUdz"
      },
      "outputs": [],
      "source": [
        "# 배열을 만드는 다양한 방법 중 하나\n",
        "# range(N): 0 ~ N-1 까지의 값을 만들어줌\n",
        "a = list(range(10))"
      ]
    },
    {
      "cell_type": "code",
      "execution_count": null,
      "metadata": {
        "id": "ay8miw8UTUdz"
      },
      "outputs": [],
      "source": [
        "a"
      ]
    },
    {
      "cell_type": "code",
      "execution_count": null,
      "metadata": {
        "id": "GZ20tIClTUdz"
      },
      "outputs": [],
      "source": [
        "a[0] = 100  # replace\n",
        "print(a)"
      ]
    },
    {
      "cell_type": "code",
      "execution_count": null,
      "metadata": {
        "id": "z_QOKblgTUdz"
      },
      "outputs": [],
      "source": [
        "del a[0]   # delete\n",
        "print(a)\n",
        "print(len(a))"
      ]
    },
    {
      "cell_type": "code",
      "execution_count": null,
      "metadata": {
        "id": "eCyzH-aATUdz"
      },
      "outputs": [],
      "source": [
        "a.append(200) # append \n",
        "print(a)"
      ]
    },
    {
      "cell_type": "code",
      "execution_count": null,
      "metadata": {
        "id": "3foifV8ZTUd0"
      },
      "outputs": [],
      "source": [
        "a = list(range(10))\n",
        "a.sort(reverse=True)\n",
        "print(a)"
      ]
    },
    {
      "cell_type": "code",
      "execution_count": null,
      "metadata": {
        "id": "19usZ8tiTUd0"
      },
      "outputs": [],
      "source": [
        "a.sort()\n",
        "print(a)"
      ]
    },
    {
      "cell_type": "code",
      "execution_count": null,
      "metadata": {
        "id": "TpLmtUz1TUd0"
      },
      "outputs": [],
      "source": [
        "min(a)"
      ]
    },
    {
      "cell_type": "code",
      "execution_count": null,
      "metadata": {
        "id": "Vihpb1MrTUd0"
      },
      "outputs": [],
      "source": [
        "max(a)"
      ]
    },
    {
      "cell_type": "code",
      "execution_count": null,
      "metadata": {
        "id": "cCtYGLNhTUd0"
      },
      "outputs": [],
      "source": [
        "sum(a)"
      ]
    },
    {
      "cell_type": "markdown",
      "source": [
        "### 정올\n",
        "http://www.jungol.co.kr/bbs/board.php?bo_table=pbank&sca=py"
      ],
      "metadata": {
        "id": "cKV6mF4yW5wu"
      }
    },
    {
      "cell_type": "markdown",
      "source": [
        "\n",
        "#### 781 : 리스트 1 - 자가진단 1\n",
        "\n",
        "http://www.jungol.co.kr/bbs/board.php?bo_table=pbank&wr_id=4131&sca=py50\n",
        "\n",
        "문제\n",
        "```\n",
        "리스트를 만들고, 출력하여 출력 예와 같이 나오도록 하는 프로그램을 작성하라.\n",
        "```\n",
        "\n",
        "출력예\n",
        "```\n",
        "['Salad', 'Pizza', 'Chicken', 'Soup']\n",
        "```"
      ],
      "metadata": {
        "id": "trAOmM1AZXmg"
      }
    },
    {
      "cell_type": "code",
      "source": [
        "mylist = ['Salad', 'Pizza', 'Chicken', 'Soup']\n",
        "print(mylist)"
      ],
      "metadata": {
        "id": "MySug2JrZXBz"
      },
      "execution_count": null,
      "outputs": []
    },
    {
      "cell_type": "markdown",
      "source": [
        "#### 782 : 리스트 1 - 자가진단 2\n",
        "http://www.jungol.co.kr/bbs/board.php?bo_table=pbank&wr_id=4132&sca=py50\n",
        "\n",
        "문제\n",
        "```\n",
        "'Python', 'is', 'exciting' 세 문자열로 이루어진 리스트를 만들고, 다음과 같이 출력하는 프로그램을 작성하라.\n",
        "```\n",
        "\n",
        "출력예\n",
        "```\n",
        "Python is exciting\n",
        "```"
      ],
      "metadata": {
        "id": "lz-p2ULEXy6Y"
      }
    },
    {
      "cell_type": "code",
      "source": [
        "mylist = ['Python', 'is', 'exciting']\n",
        "print(\" \".join(mylist))"
      ],
      "metadata": {
        "id": "M6e50A9pYA1y"
      },
      "execution_count": null,
      "outputs": []
    },
    {
      "cell_type": "markdown",
      "source": [
        "#### 783 : 리스트 1 - 자가진단 3\n",
        "http://www.jungol.co.kr/bbs/board.php?bo_table=pbank&wr_id=4133&sca=py50\n",
        "\n",
        "문제\n",
        "```\n",
        "세 개의 리스트를 만들어 아래 순서대로 합병하여 출력하는 프로그램을 작성하라.\n",
        "[첫 번째 리스트][세 번째 리스트][세 번째 리스트][세 번째 리스트][두 번째 리스트]\n",
        "첫 번째 리스트:[1, 2, 3]\n",
        "두 번째 리스트:[2, 4, 6]\n",
        "세 번째 리스트:[3, 6, 9] \n",
        "```\n",
        "\n",
        "출력예\n",
        "```\n",
        "[1, 2, 3, 3, 6, 9, 3, 6, 9, 3, 6, 9, 2, 4, 6]\n",
        "```"
      ],
      "metadata": {
        "id": "uioGqYGzZ38S"
      }
    },
    {
      "cell_type": "code",
      "source": [
        "list1 = [1, 2, 3]\n",
        "list2 = [2, 4, 6]\n",
        "list3 = [3, 6, 9]\n",
        "mylist = []\n",
        "mylist.extend(list1)\n",
        "mylist.extend(list3)\n",
        "mylist.extend(list3)\n",
        "mylist.extend(list3)\n",
        "mylist.extend(list2)\n",
        "print(mylist) "
      ],
      "metadata": {
        "id": "LBUnKcQOaETy"
      },
      "execution_count": null,
      "outputs": []
    },
    {
      "cell_type": "code",
      "source": [
        "lists = [\n",
        "    [1, 2, 3],\n",
        "    [2, 4, 6],\n",
        "    [3, 6, 9],\n",
        "]\n",
        "mylist = []\n",
        "mylist.extend(lists[0])\n",
        "mylist.extend(lists[2])\n",
        "mylist.extend(lists[2])\n",
        "mylist.extend(lists[2])\n",
        "mylist.extend(lists[1])\n",
        "print(mylist)"
      ],
      "metadata": {
        "id": "15qyQ47YagZR"
      },
      "execution_count": null,
      "outputs": []
    },
    {
      "cell_type": "code",
      "source": [
        "lists = [\n",
        "    [1, 2, 3],\n",
        "    [2, 4, 6],\n",
        "    [3, 6, 9],\n",
        "]\n",
        "mylist = []\n",
        "for idx in [0,2,2,2,1]:\n",
        "  mylist.extend(lists[idx])\n",
        "print(mylist)"
      ],
      "metadata": {
        "id": "s4P_iP2bbErm"
      },
      "execution_count": null,
      "outputs": []
    },
    {
      "cell_type": "markdown",
      "source": [
        "#### 785 : 리스트 1 - 자가진단 5\n",
        "http://www.jungol.co.kr/bbs/board.php?bo_table=pbank&wr_id=4135&sca=py50\n",
        "\n",
        "문제\n",
        "```\n",
        "문자열을 하나 입력받아서 그 문자열의 맨 앞에 있는 문자를 출력한 후, 그 문자열을 리스트로 변환한 후에 해당 리스트의 앞에서부터 세 번째 문자를 출력하는 프로그램을 작성하라. \n",
        "\n",
        "(입력되는 문자열은 항상 길이가 3 이상이라고 가정한다.)\n",
        "```\n"
      ],
      "metadata": {
        "id": "CrQo1eKNYaBK"
      }
    },
    {
      "cell_type": "code",
      "source": [
        "word = input()\n",
        "print(word[0])\n",
        "mylist =list(word)\n",
        "print(mylist[2])"
      ],
      "metadata": {
        "id": "5EqAWrSQYmE6"
      },
      "execution_count": null,
      "outputs": []
    },
    {
      "cell_type": "markdown",
      "source": [
        "#### 788 : 리스트 1 - 자가진단 6-3\n",
        "http://www.jungol.co.kr/bbs/board.php?bo_table=pbank&wr_id=4138&sca=py50\n",
        "\n",
        "문제\n",
        "```\n",
        "1부터 15까지의 정수가 들어있는 리스트를 생성하고, 정수 하나를 입력받아 그 배수들만으로 구성된 부분 리스트를 출력하는 프로그램을 작성하시오.​ \n",
        "```\n",
        "\n",
        "입력예\n",
        "```\n",
        "3\n",
        "```\n",
        "\n",
        "출력예\n",
        "```\n",
        "[3, 6, 9, 12, 15]\n",
        "```"
      ],
      "metadata": {
        "id": "WR_gIuswdSgh"
      }
    },
    {
      "cell_type": "code",
      "source": [
        "mylist = [i for i in range(1,16)]\n",
        "q = int(input())\n",
        "answer = list()\n",
        "for i in mylist:\n",
        "  if i % q == 0:\n",
        "    answer.append(i)\n",
        "print(answer)\n"
      ],
      "metadata": {
        "id": "M5O8pbkkdg37"
      },
      "execution_count": null,
      "outputs": []
    },
    {
      "cell_type": "markdown",
      "metadata": {
        "id": "vg1W6hZbPVNT"
      },
      "source": [
        "## str 도 문자의 리스트입니다."
      ]
    },
    {
      "cell_type": "code",
      "execution_count": null,
      "metadata": {
        "id": "lpXDrOLwPjWM"
      },
      "outputs": [],
      "source": [
        "sentence = \"hello world\"\n",
        "print(sentence[0])"
      ]
    },
    {
      "cell_type": "code",
      "execution_count": null,
      "metadata": {
        "id": "FE80jszjPtpl"
      },
      "outputs": [],
      "source": [
        "print(sentence[1:5])"
      ]
    },
    {
      "cell_type": "code",
      "execution_count": null,
      "metadata": {
        "id": "OhinEKXJP25v"
      },
      "outputs": [],
      "source": [
        "print(sentence[6:])"
      ]
    },
    {
      "cell_type": "code",
      "execution_count": null,
      "metadata": {
        "id": "4EK58FKzP7Fk"
      },
      "outputs": [],
      "source": [
        "print(sentence[:2])"
      ]
    },
    {
      "cell_type": "code",
      "execution_count": null,
      "metadata": {
        "id": "I0ua3VlBQEyj"
      },
      "outputs": [],
      "source": [
        "print(sentence[-5:])"
      ]
    },
    {
      "cell_type": "markdown",
      "metadata": {
        "id": "1yOXYw_CJ1gd"
      },
      "source": [
        "# dictionary\n",
        "\n",
        "- 딕셔너리는 순서에 상관없이 데이터를 담을 수 있는 구조입니다.\n",
        "- 각 데이터는 `key`를 가지고 있고, 그 `key`로 접근합니다.\n",
        "- a = {\"name1\":data1, \"name2\":data2, ...} 으로 생성합니다.\n",
        "- a가 담고 있는 각 데이터는 a[\"name1\"], a[\"name2\"], ... 로 접근합니다.\n",
        "- 담을 수 있는 데이터는 리스트와 같고, 접근 방법만 차이가 있습니다."
      ]
    },
    {
      "cell_type": "code",
      "execution_count": null,
      "metadata": {
        "id": "CBt2p3ngJ1gd"
      },
      "outputs": [],
      "source": [
        "# 생성\n",
        "# key: \"tom\", \"john\", \"jessy\" // value: 45, 30, 11\n",
        "d = {\"tom\":45, \"john\":30, \"jessy\":11}"
      ]
    },
    {
      "cell_type": "code",
      "execution_count": null,
      "metadata": {
        "id": "OmkB5DOuJ1ge"
      },
      "outputs": [],
      "source": [
        "# 조회 (key를 사용)\n",
        "print(d[\"tom\"])"
      ]
    },
    {
      "cell_type": "code",
      "execution_count": null,
      "metadata": {
        "id": "dsRUA6DFJ1ge"
      },
      "outputs": [],
      "source": [
        "# 추가\n",
        "d[\"woody\"] = 15\n",
        "print(d)"
      ]
    },
    {
      "cell_type": "code",
      "execution_count": null,
      "metadata": {
        "id": "GdRJcDf8J1gf"
      },
      "outputs": [],
      "source": [
        "# dictionalry의 key만 추출하기\n",
        "dic = {\"tom\":45, \"john\":30, \"jessy\":11}\n",
        "for k in dic:    # for k in dic.keys(): 와 같음\n",
        "    print(k)"
      ]
    },
    {
      "cell_type": "code",
      "execution_count": null,
      "metadata": {
        "id": "ifLRpSqrJ1gf"
      },
      "outputs": [],
      "source": [
        "# dictionary의 value만 추출하기\n",
        "for v in dic.values():\n",
        "    print(v)"
      ]
    },
    {
      "cell_type": "code",
      "execution_count": null,
      "metadata": {
        "id": "jayyBmZdJ1gg"
      },
      "outputs": [],
      "source": [
        "# dictionary의 key, value를 추출하기\n",
        "for k, v in dic.items():\n",
        "    print(k,v)"
      ]
    },
    {
      "cell_type": "markdown",
      "metadata": {
        "id": "GHQPdIwuTUd1"
      },
      "source": [
        "# class\n",
        "\n",
        "여러개의 변수/함수를 묶어주기 위한 용도"
      ]
    },
    {
      "cell_type": "code",
      "execution_count": null,
      "metadata": {
        "id": "MMHP5_qoTUd1"
      },
      "outputs": [],
      "source": [
        "from dataclasses import dataclass\n",
        "\n",
        "@dataclass\n",
        "class Student:\n",
        "    \n",
        "    name: str\n",
        "    age: int\n",
        "    height: float\n",
        "\n",
        "@dataclass\n",
        "class Teacher:\n",
        "\n",
        "    name: str\n",
        "    subject: str\n",
        "\n",
        "tom = Student(name=\"Tom\", age=10, height=174.2)\n",
        "david = Teacher(name=\"David\", subject=\"Computer\")\n",
        "\n",
        "print(tom)\n",
        "print(david)"
      ]
    },
    {
      "cell_type": "code",
      "execution_count": null,
      "metadata": {
        "id": "Tflm1F96TUd1"
      },
      "outputs": [],
      "source": [
        "print(tom.name, tom.age, tom.height)\n",
        "print(type(tom.name), type(tom.age), type(tom.height), type(tom))"
      ]
    },
    {
      "cell_type": "markdown",
      "metadata": {
        "id": "q_0j3MuFovoi"
      },
      "source": [
        "# F-String\n",
        "변수값을 특정 포멧에 맞추어 쉽게 표시하기 위한 방법\n"
      ]
    },
    {
      "cell_type": "code",
      "execution_count": null,
      "metadata": {
        "id": "EiY-eAYjTUd2"
      },
      "outputs": [],
      "source": [
        "students = [Student(\"Tom\", 9, 174.234), Student(\"Jessy\", 11, 181.2)]"
      ]
    },
    {
      "cell_type": "code",
      "execution_count": null,
      "metadata": {
        "id": "o0NjVs4vTUd2"
      },
      "outputs": [],
      "source": [
        "for student in students:\n",
        "    print(student.name, student.age, student.height)"
      ]
    },
    {
      "cell_type": "code",
      "execution_count": null,
      "metadata": {
        "id": "m24SdpDqTUd2"
      },
      "outputs": [],
      "source": [
        "# f\"\" 안에 출력값을 넣어줌\n",
        "# 변수 값을 출력하고 싶은 경우에는 {} 안에 넣음\n",
        "# 특정 포멧으로 출력하고 싶은 경우 : 뒤에 포멧을 입력\n",
        "for student in students:\n",
        "    print(f\"{student.name:5s}, {student.age:02d}, {student.height:.2f}\")"
      ]
    },
    {
      "cell_type": "code",
      "execution_count": null,
      "metadata": {
        "id": "H2ZAtLd0ovoj"
      },
      "outputs": [],
      "source": [
        ""
      ]
    },
    {
      "cell_type": "markdown",
      "source": [
        "## 문제풀기\n",
        "\n",
        "문제를 풀며 파이썬 배우기\n",
        "https://www.acmicpc.net/workbook/view/459"
      ],
      "metadata": {
        "id": "f-fvcBPBNXkx"
      }
    },
    {
      "cell_type": "markdown",
      "source": [
        "### 예제문제\n",
        "\n",
        "#### 문제\n",
        "두 정수 A와 B를 입력받은 다음, A+B를 출력하는 프로그램을 작성하시오.\n",
        "\n",
        "#### 입력\n",
        "첫째 줄에 A와 B가 주어진다. (0 < A, B < 10)\n",
        "\n",
        "#### 출력\n",
        "첫째 줄에 A+B를 출력한다.\n",
        "\n",
        "#### 예제 입력 1 \n",
        "```\n",
        "1 2\n",
        "```\n",
        "#### 예제 출력 1 \n",
        "```\n",
        "3\n",
        "```\n"
      ],
      "metadata": {
        "id": "yMH7KEsDNrDZ"
      }
    },
    {
      "cell_type": "code",
      "source": [
        "a, b = input().strip().split()\n",
        "a = int(a)\n",
        "b = int(b)\n",
        "# print(\"a:\", a, \"b\", b)\n",
        "print(a+b)"
      ],
      "metadata": {
        "id": "E3zzu3wpNlbs"
      },
      "execution_count": null,
      "outputs": []
    },
    {
      "cell_type": "markdown",
      "source": [
        "Python\n",
        "```python\n",
        "a, b = input().strip().split()\n",
        "a = int(a)\n",
        "b = int(b)\n",
        "print(a+b)\n",
        "```\n",
        "\n",
        "C언어\n",
        "```c\n",
        "#include <stdio.h>\n",
        "\n",
        "int main() {\n",
        "   int a;\n",
        "   int b;\n",
        "   scanf(\"%d %d\", &a, &b);\n",
        "   printf(\"%d\\n\", (a+b));\n",
        "}\n",
        "```\n",
        "\n",
        "Java 언어\n",
        "```java\n",
        "import java.util.Scanner;\n",
        "\n",
        "class Main {\n",
        "  public static void main(String[] args) {\n",
        "    Scanner scanner = new Scanner(System.in);\n",
        "    int a = scanner.nextInt();\n",
        "    int b = scanner.nextInt();\n",
        "    System.out.println(a+b);\n",
        "  }\n",
        "}\n",
        "```"
      ],
      "metadata": {
        "id": "y8simNu8OV4l"
      }
    },
    {
      "cell_type": "code",
      "source": [
        ""
      ],
      "metadata": {
        "id": "6Sz1Z_mlONYi"
      },
      "execution_count": null,
      "outputs": []
    },
    {
      "cell_type": "markdown",
      "source": [
        "## graph 그리기"
      ],
      "metadata": {
        "id": "0IUVxoV8xPLO"
      }
    },
    {
      "cell_type": "code",
      "source": [
        "import matplotlib.pyplot as plt"
      ],
      "metadata": {
        "id": "RTCadalGxezY"
      },
      "execution_count": null,
      "outputs": []
    },
    {
      "cell_type": "markdown",
      "source": [
        "## 1차함수 그리기"
      ],
      "metadata": {
        "id": "DPOogpCr6XaU"
      }
    },
    {
      "cell_type": "code",
      "source": [
        "def f(x):\n",
        "  a = 1\n",
        "  b = 1\n",
        "  y = a * x + b\n",
        "\n",
        "  return y"
      ],
      "metadata": {
        "id": "7craCIpGxyNy"
      },
      "execution_count": null,
      "outputs": []
    },
    {
      "cell_type": "code",
      "source": [
        "x_list = [i/10 for i in range(-100,100+1)]\n",
        "print(x_list)"
      ],
      "metadata": {
        "id": "su1_Gr_6yCtg"
      },
      "execution_count": null,
      "outputs": []
    },
    {
      "cell_type": "code",
      "source": [
        "y_list = []\n",
        "for x in x_list:\n",
        "  y_list.append(f(x))\n",
        "print(y_list)"
      ],
      "metadata": {
        "id": "u8s-fXAoyKlb"
      },
      "execution_count": null,
      "outputs": []
    },
    {
      "cell_type": "code",
      "source": [
        "plt.plot(x_list, y_list)"
      ],
      "metadata": {
        "id": "KC6qR3h0zFNK"
      },
      "execution_count": null,
      "outputs": []
    },
    {
      "cell_type": "markdown",
      "source": [
        "## 2차 함수 그리기"
      ],
      "metadata": {
        "id": "qsVCrT6P6d7z"
      }
    },
    {
      "cell_type": "code",
      "source": [
        "import math\n",
        "def f2(x):\n",
        "  y = 2*math.pow(x,2) - 4*x + 7\n",
        "  return y\n",
        "y_list = []\n",
        "for x in x_list:\n",
        "  y_list.append(f2(x))\n",
        "plt.plot(x_list, y_list)"
      ],
      "metadata": {
        "id": "yMU4hbkNzuW2"
      },
      "execution_count": null,
      "outputs": []
    },
    {
      "cell_type": "markdown",
      "source": [
        "## 3차 함수 그리기"
      ],
      "metadata": {
        "id": "MuugMZUU6gur"
      }
    },
    {
      "cell_type": "code",
      "source": [
        "import math\n",
        "def f2(x):\n",
        "  y = 2*math.pow(x,3) - 2*math.pow(x,2) + 2*x + 7\n",
        "  return y\n",
        "\n",
        "y_list = []\n",
        "for x in x_list:\n",
        "  y_list.append(f2(x))\n",
        "plt.plot(x_list, y_list)"
      ],
      "metadata": {
        "id": "ix54brH_0g9W"
      },
      "execution_count": null,
      "outputs": []
    },
    {
      "cell_type": "markdown",
      "source": [
        "## sin 함수 그리기"
      ],
      "metadata": {
        "id": "Y7XSZ_B46rNo"
      }
    },
    {
      "cell_type": "code",
      "source": [
        "import math\n",
        "def f1(x):\n",
        "    y = math.sin(x)\n",
        "    return y\n",
        "y_list = []\n",
        "for x in x_list:\n",
        "  y_list.append(f1(x))\n",
        "plt.plot(x_list, y_list)"
      ],
      "metadata": {
        "id": "kBpTEN5tzJ4Z"
      },
      "execution_count": null,
      "outputs": []
    },
    {
      "cell_type": "code",
      "source": [
        "import math\n",
        "def f1(x):\n",
        "    y = math.sin(x) + 2*math.sin(2*x) + 2*math.cos(3*x)\n",
        "    return y\n",
        "y_list = []\n",
        "for x in x_list:\n",
        "  y_list.append(f1(x))\n",
        "plt.plot(x_list, y_list)"
      ],
      "metadata": {
        "id": "EHqkO1i_7ioL"
      },
      "execution_count": null,
      "outputs": []
    },
    {
      "cell_type": "markdown",
      "source": [
        "## 원그리기"
      ],
      "metadata": {
        "id": "27etWLnF62xe"
      }
    },
    {
      "cell_type": "code",
      "source": [
        "import math\n",
        "def f2(x):\n",
        "  y = math.sqrt(100-math.pow(x,2))\n",
        "  return y\n",
        "\n",
        "y_list = []\n",
        "for x in x_list:\n",
        "  y_list.append(f2(x))\n",
        "plt.plot(x_list, y_list)"
      ],
      "metadata": {
        "id": "9M4Worlr1Yco"
      },
      "execution_count": null,
      "outputs": []
    },
    {
      "cell_type": "code",
      "source": [
        "y2_list = []\n",
        "x2_list = []\n",
        "for x in x_list:\n",
        "  x2_list.append(x)\n",
        "  y2_list.append(f2(x))\n",
        "for x in x_list[::-1]:\n",
        "  x2_list.append(x)\n",
        "  y2_list.append(-f2(x))\n",
        "\n",
        "plt.figure(figsize=(8,8))\n",
        "plt.plot(x2_list, y2_list)"
      ],
      "metadata": {
        "id": "iaCiwCUC1kZJ"
      },
      "execution_count": null,
      "outputs": []
    },
    {
      "cell_type": "code",
      "source": [
        ""
      ],
      "metadata": {
        "id": "RiirGsXf4ZKZ"
      },
      "execution_count": null,
      "outputs": []
    }
  ],
  "metadata": {
    "colab": {
      "collapsed_sections": [],
      "name": "w2_python_basic.ipynb",
      "toc_visible": true,
      "provenance": []
    },
    "kernelspec": {
      "display_name": "Python 3 (ipykernel)",
      "language": "python",
      "name": "python3"
    },
    "language_info": {
      "codemirror_mode": {
        "name": "ipython",
        "version": 3
      },
      "file_extension": ".py",
      "mimetype": "text/x-python",
      "name": "python",
      "nbconvert_exporter": "python",
      "pygments_lexer": "ipython3",
      "version": "3.9.7"
    }
  },
  "nbformat": 4,
  "nbformat_minor": 0
}