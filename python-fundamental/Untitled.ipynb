{
 "cells": [
  {
   "cell_type": "code",
   "execution_count": 1,
   "id": "f5b26e8b-3ef0-4228-a8a4-920868c3717a",
   "metadata": {},
   "outputs": [
    {
     "data": {
      "text/plain": [
       "4"
      ]
     },
     "execution_count": 1,
     "metadata": {},
     "output_type": "execute_result"
    }
   ],
   "source": [
    "2+2"
   ]
  },
  {
   "cell_type": "code",
   "execution_count": 1,
   "id": "ea85f71b-c7b9-4b86-968b-3b50c058ff6d",
   "metadata": {},
   "outputs": [
    {
     "data": {
      "text/plain": [
       "20"
      ]
     },
     "execution_count": 1,
     "metadata": {},
     "output_type": "execute_result"
    }
   ],
   "source": [
    "50 -5*6"
   ]
  },
  {
   "cell_type": "code",
   "execution_count": 2,
   "id": "e98492c0-0c3e-4bb2-90bd-c0f03f29aa0f",
   "metadata": {},
   "outputs": [
    {
     "data": {
      "text/plain": [
       "4"
      ]
     },
     "execution_count": 2,
     "metadata": {},
     "output_type": "execute_result"
    }
   ],
   "source": [
    "2 + 2"
   ]
  },
  {
   "cell_type": "code",
   "execution_count": null,
   "id": "9b152830-59dd-40d8-a294-a880fd9a35e5",
   "metadata": {},
   "outputs": [],
   "source": []
  },
  {
   "cell_type": "code",
   "execution_count": null,
   "id": "65067a7a-d20e-400a-bfbb-a72c65d4051e",
   "metadata": {},
   "outputs": [],
   "source": []
  },
  {
   "cell_type": "code",
   "execution_count": null,
   "id": "8c6b035e-77b0-4bf8-bd04-38f2e755b24b",
   "metadata": {},
   "outputs": [],
   "source": []
  },
  {
   "cell_type": "code",
   "execution_count": null,
   "id": "f1dbe9ba-1273-4a6d-ae5a-412f47c6fd68",
   "metadata": {},
   "outputs": [],
   "source": [
    ">>> 2 + 2\n",
    "4\n",
    ">>> 50 - 5*6\n",
    "20\n",
    ">>> (50 - 5*6) / 4\n",
    "5.0\n",
    ">>> 8 / 5  # division always returns a floating point number\n",
    "1.6"
   ]
  }
 ],
 "metadata": {
  "kernelspec": {
   "display_name": "Python 3 (ipykernel)",
   "language": "python",
   "name": "python3"
  },
  "language_info": {
   "codemirror_mode": {
    "name": "ipython",
    "version": 3
   },
   "file_extension": ".py",
   "mimetype": "text/x-python",
   "name": "python",
   "nbconvert_exporter": "python",
   "pygments_lexer": "ipython3",
   "version": "3.9.10"
  }
 },
 "nbformat": 4,
 "nbformat_minor": 5
}
