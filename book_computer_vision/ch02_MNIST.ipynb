{
 "cells": [
  {
   "cell_type": "code",
   "execution_count": 4,
   "metadata": {},
   "outputs": [
    {
     "name": "stdout",
     "output_type": "stream",
     "text": [
      "1.14.0\n",
      "<module 'tensorflow._api.v1.version' from 'C:\\\\Users\\\\SuhyunKim\\\\Anaconda3\\\\lib\\\\site-packages\\\\tensorflow\\\\_api\\\\v1\\\\version\\\\__init__.py'>\n"
     ]
    }
   ],
   "source": [
    "import tensorflow as tf\n",
    "\n",
    "print(tf.VERSION)\n",
    "print(tf.version)"
   ]
  },
  {
   "cell_type": "code",
   "execution_count": 5,
   "metadata": {},
   "outputs": [
    {
     "name": "stdout",
     "output_type": "stream",
     "text": [
      "WARNING:tensorflow:From <ipython-input-5-d7457694f99a>:2: read_data_sets (from tensorflow.contrib.learn.python.learn.datasets.mnist) is deprecated and will be removed in a future version.\n",
      "Instructions for updating:\n",
      "Please use alternatives such as official/mnist/dataset.py from tensorflow/models.\n",
      "WARNING:tensorflow:From C:\\Users\\SuhyunKim\\Anaconda3\\lib\\site-packages\\tensorflow\\contrib\\learn\\python\\learn\\datasets\\mnist.py:260: maybe_download (from tensorflow.contrib.learn.python.learn.datasets.base) is deprecated and will be removed in a future version.\n",
      "Instructions for updating:\n",
      "Please write your own downloading logic.\n",
      "WARNING:tensorflow:From C:\\Users\\SuhyunKim\\Anaconda3\\lib\\site-packages\\tensorflow\\contrib\\learn\\python\\learn\\datasets\\mnist.py:262: extract_images (from tensorflow.contrib.learn.python.learn.datasets.mnist) is deprecated and will be removed in a future version.\n",
      "Instructions for updating:\n",
      "Please use tf.data to implement this functionality.\n",
      "Extracting MNIST_data\\train-images-idx3-ubyte.gz\n",
      "WARNING:tensorflow:From C:\\Users\\SuhyunKim\\Anaconda3\\lib\\site-packages\\tensorflow\\contrib\\learn\\python\\learn\\datasets\\mnist.py:267: extract_labels (from tensorflow.contrib.learn.python.learn.datasets.mnist) is deprecated and will be removed in a future version.\n",
      "Instructions for updating:\n",
      "Please use tf.data to implement this functionality.\n",
      "Extracting MNIST_data\\train-labels-idx1-ubyte.gz\n",
      "WARNING:tensorflow:From C:\\Users\\SuhyunKim\\Anaconda3\\lib\\site-packages\\tensorflow\\contrib\\learn\\python\\learn\\datasets\\mnist.py:110: dense_to_one_hot (from tensorflow.contrib.learn.python.learn.datasets.mnist) is deprecated and will be removed in a future version.\n",
      "Instructions for updating:\n",
      "Please use tf.one_hot on tensors.\n",
      "Extracting MNIST_data\\t10k-images-idx3-ubyte.gz\n",
      "Extracting MNIST_data\\t10k-labels-idx1-ubyte.gz\n",
      "WARNING:tensorflow:From C:\\Users\\SuhyunKim\\Anaconda3\\lib\\site-packages\\tensorflow\\contrib\\learn\\python\\learn\\datasets\\mnist.py:290: DataSet.__init__ (from tensorflow.contrib.learn.python.learn.datasets.mnist) is deprecated and will be removed in a future version.\n",
      "Instructions for updating:\n",
      "Please use alternatives such as official/mnist/dataset.py from tensorflow/models.\n"
     ]
    }
   ],
   "source": [
    "from tensorflow.examples.tutorials.mnist import input_data\n",
    "mnist_data = input_data.read_data_sets('MNIST_data', one_hot=True)"
   ]
  },
  {
   "cell_type": "code",
   "execution_count": 7,
   "metadata": {},
   "outputs": [],
   "source": [
    "input_size = 784\n",
    "no_classes = 10\n",
    "batch_size = 100\n",
    "total_batches = 200\n",
    "\n",
    "x_input = tf.placeholder(tf.float32, shape=[None, input_size], name='x_input')\n",
    "y_input = tf.placeholder(tf.float32, shape=[None, no_classes], name='y_input')"
   ]
  },
  {
   "cell_type": "markdown",
   "metadata": {},
   "source": [
    "shape의 None은 아직 배치 크기를 정하지 않았으므로 어떠한 크기든 될 수 있음을 의미한다.\n",
    "`x_input`의 두번째 인수는 `텐서의 크기`\n",
    "`y_input`의 두번째 인수는 `클래스의 수`\n"
   ]
  },
  {
   "cell_type": "code",
   "execution_count": 12,
   "metadata": {},
   "outputs": [],
   "source": [
    "weights = tf.Variable(tf.random_normal([input_size, no_classes]))\n",
    "bias = tf.Variable(tf.random_normal([no_classes]))"
   ]
  },
  {
   "cell_type": "code",
   "execution_count": 13,
   "metadata": {},
   "outputs": [],
   "source": [
    "logits = tf.matmul(x_input, weights) + bias"
   ]
  },
  {
   "cell_type": "code",
   "execution_count": 16,
   "metadata": {},
   "outputs": [
    {
     "name": "stdout",
     "output_type": "stream",
     "text": [
      "WARNING:tensorflow:From <ipython-input-16-6c85ecab5ba0>:2: softmax_cross_entropy_with_logits (from tensorflow.python.ops.nn_ops) is deprecated and will be removed in a future version.\n",
      "Instructions for updating:\n",
      "\n",
      "Future major versions of TensorFlow will allow gradients to flow\n",
      "into the labels input on backprop by default.\n",
      "\n",
      "See `tf.nn.softmax_cross_entropy_with_logits_v2`.\n",
      "\n"
     ]
    }
   ],
   "source": [
    "softmax_cross_entropy = tf.nn.softmax_cross_entropy_with_logits(\n",
    "     labels=y_input, logits=logits)\n",
    "loss_operation = tf.reduce_mean(softmax_cross_entropy)\n",
    "optimiser = tf.train.GradientDescentOptimizer(learning_rate=0.5).minimize(loss_operation)"
   ]
  },
  {
   "cell_type": "markdown",
   "metadata": {},
   "source": [
    "tf.nn.softmax_cross_entropy_with_logits(\n",
    "    labels,\n",
    "    logits,\n",
    "    axis=-1,\n",
    "    name=None\n",
    ")\n",
    "Measures the probability error in discrete classification tasks in which the classes are mutually exclusive (each entry is in exactly one class). For example, each CIFAR-10 image is labeled with one and only one label: an image can be a dog or a truck, but not both.\n",
    "\n"
   ]
  },
  {
   "cell_type": "markdown",
   "metadata": {},
   "source": [
    "Args:\n",
    "labels: Each vector along the class dimension should hold a valid probability distribution e.g. for the case in which labels are of shape [batch_size, num_classes], each row of labels[i] must be a valid probability distribution.\n",
    "logits: Per-label activations, typically a linear output. These activation energies are interpreted as unnormalized log probabilities.\n",
    "axis: The class dimension. Defaulted to -1 which is the last dimension.\n",
    "name: A name for the operation (optional)."
   ]
  },
  {
   "cell_type": "code",
   "execution_count": 17,
   "metadata": {},
   "outputs": [],
   "source": [
    "session = tf.Session()\n",
    "session.run(tf.global_variables_initializer())"
   ]
  },
  {
   "cell_type": "code",
   "execution_count": 20,
   "metadata": {},
   "outputs": [
    {
     "name": "stdout",
     "output_type": "stream",
     "text": [
      "13.715608\n",
      "12.79688\n",
      "11.211802\n",
      "10.430908\n",
      "10.097464\n",
      "9.45484\n",
      "8.535574\n",
      "8.934432\n",
      "7.8137445\n",
      "8.862664\n",
      "5.7900057\n",
      "6.3821974\n",
      "4.377951\n",
      "4.974108\n",
      "5.2118363\n",
      "5.241693\n",
      "4.9463263\n",
      "5.6152897\n",
      "4.6824794\n",
      "4.0717854\n",
      "4.629072\n",
      "4.218268\n",
      "3.3216093\n",
      "4.392783\n",
      "3.6168945\n",
      "3.104982\n",
      "2.9108908\n",
      "3.5184283\n",
      "4.0546923\n",
      "3.9036589\n",
      "3.254889\n",
      "2.860881\n",
      "3.069605\n",
      "3.232241\n",
      "2.8226457\n",
      "2.794511\n",
      "2.900386\n",
      "2.5579748\n",
      "2.5624747\n",
      "2.8936965\n",
      "2.2963827\n",
      "2.543372\n",
      "2.1543784\n",
      "2.8210418\n",
      "1.6868408\n",
      "2.5331676\n",
      "2.2857206\n",
      "2.000694\n",
      "2.2321367\n",
      "2.7781906\n",
      "2.4992402\n",
      "2.717879\n",
      "2.7931435\n",
      "2.1695008\n",
      "2.0220933\n",
      "1.6600156\n",
      "2.3180606\n",
      "1.5041184\n",
      "1.7941028\n",
      "2.4579446\n",
      "1.8180438\n",
      "1.7408873\n",
      "2.3045275\n",
      "2.1098351\n",
      "2.8078756\n",
      "1.6441537\n",
      "1.9292908\n",
      "2.0117066\n",
      "1.4705118\n",
      "1.6010655\n",
      "1.5727372\n",
      "2.101493\n",
      "1.4443823\n",
      "1.6674051\n",
      "0.95125276\n",
      "2.1289937\n",
      "1.2164172\n",
      "1.7384907\n",
      "1.8351833\n",
      "1.7574354\n",
      "1.117985\n",
      "1.9780777\n",
      "1.7368861\n",
      "1.488545\n",
      "1.7727056\n",
      "1.2048062\n",
      "1.3347726\n",
      "1.2105188\n",
      "1.4314247\n",
      "1.0903659\n",
      "1.8061775\n",
      "1.2436408\n",
      "1.312294\n",
      "1.3305584\n",
      "1.0556492\n",
      "1.8173153\n",
      "1.0149194\n",
      "1.7823404\n",
      "1.45061\n",
      "1.7227364\n",
      "1.0435835\n",
      "1.2752967\n",
      "1.8097136\n",
      "1.7503743\n",
      "1.4788879\n",
      "1.651286\n",
      "1.661131\n",
      "1.4232799\n",
      "1.075849\n",
      "1.759235\n",
      "1.6754136\n",
      "1.1509748\n",
      "1.3508939\n",
      "0.9791529\n",
      "1.676558\n",
      "1.4335481\n",
      "1.1704785\n",
      "1.7870955\n",
      "1.6963235\n",
      "1.237709\n",
      "1.1617802\n",
      "1.022338\n",
      "1.1323478\n",
      "1.1777252\n",
      "1.2292424\n",
      "1.0731246\n",
      "0.90573716\n",
      "1.3727994\n",
      "1.4396504\n",
      "1.6493313\n",
      "0.8497739\n",
      "1.4972376\n",
      "1.563179\n",
      "1.3071837\n",
      "1.2743754\n",
      "1.2283342\n",
      "1.0588608\n",
      "0.87071496\n",
      "1.109319\n",
      "1.230975\n",
      "0.94184655\n",
      "1.3516214\n",
      "1.4910638\n",
      "1.014616\n",
      "1.725553\n",
      "0.8420224\n",
      "1.2632538\n",
      "1.3657559\n",
      "1.2348243\n",
      "1.1514323\n",
      "1.077924\n",
      "1.3641757\n",
      "1.1316417\n",
      "0.94799685\n",
      "1.2324876\n",
      "1.1660933\n",
      "0.99966836\n",
      "1.279407\n",
      "1.3914026\n",
      "0.6878667\n",
      "1.3153825\n",
      "0.9692903\n",
      "1.3335935\n",
      "0.8121599\n",
      "1.0057572\n",
      "1.0596571\n",
      "0.81565255\n",
      "1.3131196\n",
      "0.95922166\n",
      "1.6259047\n",
      "1.1522105\n",
      "0.9718176\n",
      "1.1988959\n",
      "1.2704444\n",
      "0.6652568\n",
      "1.1050608\n",
      "1.0117388\n",
      "0.7771983\n",
      "1.1337428\n",
      "1.3980701\n",
      "1.0600752\n",
      "0.98629105\n",
      "1.0049572\n",
      "1.0319744\n",
      "1.1198754\n",
      "1.6343355\n",
      "0.95054317\n",
      "1.0378234\n",
      "0.76356775\n",
      "1.1004905\n",
      "0.72921187\n",
      "1.4036853\n",
      "0.85799897\n",
      "1.1413829\n",
      "1.0259862\n",
      "1.0182743\n",
      "1.2807461\n",
      "0.9652622\n",
      "1.198265\n",
      "1.1352391\n"
     ]
    }
   ],
   "source": [
    "for batch_no in range(total_batches):\n",
    "    mnist_batch = mnist_data.train.next_batch(batch_size)\n",
    "    _, loss_value = session.run([www., loss_operation], feed_dict={\n",
    "        x_input: mnist_batch[0],\n",
    "        y_input: mnist_batch[1]\n",
    "    })\n",
    "    print(loss_value)"
   ]
  },
  {
   "cell_type": "code",
   "execution_count": 21,
   "metadata": {},
   "outputs": [],
   "source": [
    "tf.summary.FileWriter('./tmp/MNIST',session.graph)\n",
    "session.close()"
   ]
  },
  {
   "cell_type": "code",
   "execution_count": null,
   "metadata": {},
   "outputs": [],
   "source": []
  }
 ],
 "metadata": {
  "kernelspec": {
   "display_name": "Python 3",
   "language": "python",
   "name": "python3"
  },
  "language_info": {
   "codemirror_mode": {
    "name": "ipython",
    "version": 3
   },
   "file_extension": ".py",
   "mimetype": "text/x-python",
   "name": "python",
   "nbconvert_exporter": "python",
   "pygments_lexer": "ipython3",
   "version": "3.7.4"
  }
 },
 "nbformat": 4,
 "nbformat_minor": 4
}
