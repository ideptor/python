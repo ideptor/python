{
  "nbformat": 4,
  "nbformat_minor": 0,
  "metadata": {
    "colab": {
      "name": "w3_svm.ipynb",
      "provenance": [],
      "collapsed_sections": []
    },
    "kernelspec": {
      "name": "python3",
      "display_name": "Python 3"
    },
    "language_info": {
      "name": "python"
    }
  },
  "cells": [
    {
      "cell_type": "markdown",
      "source": [
        "# 임의좌표 생성"
      ],
      "metadata": {
        "id": "uGYYSPwZw_12"
      }
    },
    {
      "cell_type": "code",
      "source": [
        "import numpy as np\n",
        "def generate_xy(num=100):\n",
        "  X = np.random.rand(num,2)\n",
        "  X *= 10\n",
        "\n",
        "  return X"
      ],
      "metadata": {
        "id": "Q4mmxmTlcLfe"
      },
      "execution_count": null,
      "outputs": []
    },
    {
      "cell_type": "code",
      "source": [
        "import matplotlib.pyplot as plt\n",
        "X = generate_xy(100)\n",
        "plt.scatter(X[:,0], X[:,1])"
      ],
      "metadata": {
        "id": "izIft5s0drcE"
      },
      "execution_count": null,
      "outputs": []
    },
    {
      "cell_type": "markdown",
      "source": [
        "## 좌표별로 labeling 하기\n",
        "\n",
        "```\n",
        "0: if y>f(x)\n",
        "1: if y<=f(x)\n",
        "```"
      ],
      "metadata": {
        "id": "Ouz9zwdWxDuU"
      }
    },
    {
      "cell_type": "code",
      "source": [
        "def labeling(X, func):\n",
        "  labels = list()\n",
        "  for x in X:\n",
        "    labels.append(\n",
        "        0 if x[1] > func(x[0]) else 1\n",
        "    )\n",
        "  return np.array(labels)"
      ],
      "metadata": {
        "id": "bUkRHDAef71h"
      },
      "execution_count": null,
      "outputs": []
    },
    {
      "cell_type": "code",
      "source": [
        "labels = labeling(X, lambda x: x)\n",
        "labels"
      ],
      "metadata": {
        "id": "jrV2yUBHgwO_"
      },
      "execution_count": null,
      "outputs": []
    },
    {
      "cell_type": "markdown",
      "source": [
        "## pandas 활용하여 데이터 처리 간소화"
      ],
      "metadata": {
        "id": "OWjKpUrDxZ8D"
      }
    },
    {
      "cell_type": "code",
      "source": [
        "import pandas as pd\n",
        "df_X = pd.DataFrame(X, columns=[\"x\", \"y\"])\n",
        "df_label = pd.DataFrame(labels, columns=[\"label\"])\n",
        "df = pd.concat([df_X, df_label], axis=1)\n",
        "df"
      ],
      "metadata": {
        "id": "LsvqfKEChJ9B"
      },
      "execution_count": null,
      "outputs": []
    },
    {
      "cell_type": "code",
      "source": [
        "import seaborn as sb\n",
        "sb.scatterplot(data=df, x=\"x\", y=\"y\", hue=\"label\")"
      ],
      "metadata": {
        "id": "nBPfL9CjhmTg"
      },
      "execution_count": null,
      "outputs": []
    },
    {
      "cell_type": "markdown",
      "source": [
        "## 데이터 생성 및 labeling 코드 취합"
      ],
      "metadata": {
        "id": "p7L7LAaSxhRq"
      }
    },
    {
      "cell_type": "code",
      "source": [
        "import numpy as np\n",
        "import pandas as pd\n",
        "\n",
        "def generate(func, num=100, max=10):\n",
        "  X = np.random.rand(num,2)\n",
        "  X *= max\n",
        "\n",
        "  labels = list()\n",
        "  for x in X:\n",
        "    labels.append(\n",
        "        0 if x[1] > func(x[0]) else 1\n",
        "    )\n",
        "\n",
        "  df_X = pd.DataFrame(X, columns=[\"x\", \"y\"])\n",
        "  df_label = pd.DataFrame(labels, columns=[\"label\"])\n",
        "  df = pd.concat([df_X, df_label], axis=1)\n",
        "\n",
        "  return df"
      ],
      "metadata": {
        "id": "Q1apRu1oimsQ"
      },
      "execution_count": null,
      "outputs": []
    },
    {
      "cell_type": "markdown",
      "source": [
        "# 단계1. 데이터 생성"
      ],
      "metadata": {
        "id": "K91GO8Vixmij"
      }
    },
    {
      "cell_type": "code",
      "source": [
        "import math\n",
        "\n",
        "def func1(x):\n",
        "  return 0.03 * math.pow(x-4,3) + 3\n",
        "\n",
        "def func2(x):\n",
        "  return 0.7 * math.pow(x-4,2) + 1\n",
        "\n",
        "df = generate(func1, 100, 10)\n",
        "#df = generate(func2, 100, 10)\n",
        "sb.scatterplot(data=df, x=\"x\", y=\"y\", hue=\"label\")"
      ],
      "metadata": {
        "id": "-51n8rttjX9u"
      },
      "execution_count": null,
      "outputs": []
    },
    {
      "cell_type": "markdown",
      "source": [
        "https://scikit-learn.org/stable/modules/generated/sklearn.svm.SVC.html\n",
        "\n",
        "### C: float, default=1.0\n",
        "> Regularization parameter. The strength of the regularization is inversely proportional to C. Must be strictly positive. The penalty is a squared l2 penalty.\n",
        "\n",
        "### kernel: {‘linear’, ‘poly’, ‘rbf’, ‘sigmoid’, ‘precomputed’} or callable, default=’rbf’\n",
        "> Specifies the kernel type to be used in the algorithm. If none is given, ‘rbf’ will be used. If a callable is given it is used to pre-compute the kernel matrix from data matrices; that matrix should be an array of shape (n_samples, n_samples).\n",
        "\n",
        "### degree: int, default=3\n",
        "> Degree of the polynomial kernel function (‘poly’). Ignored by all other kernels.\n"
      ],
      "metadata": {
        "id": "u1qrZtaNvqYk"
      }
    },
    {
      "cell_type": "markdown",
      "source": [
        "# 단계2. SVM으로 classifier 학습"
      ],
      "metadata": {
        "id": "L81s-JRPxrOy"
      }
    },
    {
      "cell_type": "code",
      "source": [
        "from sklearn.svm import SVC\n",
        "import numpy as np\n",
        "\n",
        "def svm(data, kernel=\"linear\", degree=3, C=1):\n",
        "  classifier = SVC(kernel=kernel, degree=degree, C=C)\n",
        "  classifier.fit(data[[\"x\",\"y\"]],data[\"label\"])\n",
        "\n",
        "  return classifier"
      ],
      "metadata": {
        "id": "AXHtQB8Evo9L"
      },
      "execution_count": null,
      "outputs": []
    },
    {
      "cell_type": "code",
      "source": [
        "from matplotlib.colors import ListedColormap\n",
        "import matplotlib.pyplot as plot\n",
        "import numpy as np\n",
        "\n",
        "def draw_graph(classifier, data):\n",
        "  x_min, x_max = data[\"x\"].min() - 1, data[\"x\"].max() + 1\n",
        "  y_min, y_max = data[\"y\"].min() - 1, data[\"y\"].max() + 1\n",
        "  h = 0.04\n",
        "  xx, yy = np.meshgrid(np.arange(x_min, x_max, h), np.arange(y_min, y_max, h))\n",
        "  Z = classifier.predict(np.c_[xx.ravel(), yy.ravel()])\n",
        "  Z = Z.reshape(xx.shape)\n",
        "  plot.figure(figsize=(8, 6))\n",
        "\n",
        "  colormap_light = ListedColormap([\"yellow\", \"orange\"])\n",
        "  plot.contourf(xx, yy, Z, colormap=colormap_light)\n",
        "\n",
        "  colormap_bold = [\"pink\", \"c\"]\n",
        "  sb.scatterplot(\n",
        "      data=data,\n",
        "      x=\"x\", y=\"y\",hue=\"label\",\n",
        "      palette=colormap_bold,\n",
        "      alpha=1.0,\n",
        "      edgecolor=\"brown\",\n",
        "  )\n",
        "  plot.xlim(xx.min(), xx.max())\n",
        "  plot.ylim(yy.min(), yy.max())\n",
        "\n",
        "  y_predict = classifier.predict(data[[\"x\",\"y\"]])\n",
        "  hit_count=0\n",
        "  for i in range(len(df)):\n",
        "    if y_predict[i] == data['label'].iloc[i]:\n",
        "      hit_count += 1\n",
        "\n",
        "  plot.title(\n",
        "      f\"{str(classifier)} classification \"\n",
        "      f\"\\nacc={hit_count/len(data)*100:.1f} % ({hit_count}/{len(data)})\"\n",
        "  )\n",
        "  # plot.xlabel(iris.feature_names[0])\n",
        "  # plot.ylabel(iris.feature_names[1])"
      ],
      "metadata": {
        "id": "2p-ycyDymsWe"
      },
      "execution_count": null,
      "outputs": []
    },
    {
      "cell_type": "markdown",
      "source": [
        "# 단계3. 다양한 하이퍼파라미터(kernel, degree, C 등) 적용"
      ],
      "metadata": {
        "id": "SebzPGVEx3vy"
      }
    },
    {
      "cell_type": "code",
      "source": [
        "classifier = svm(data=generate(func1, 100, 10))\n",
        "draw_graph(classifier=classifier, data=generate(func1, 100, 10))"
      ],
      "metadata": {
        "id": "iZG2597TmsTn"
      },
      "execution_count": null,
      "outputs": []
    },
    {
      "cell_type": "code",
      "source": [
        "classifier = svm(data=generate(func1, 100, 10), kernel=\"poly\", degree=3)\n",
        "draw_graph(classifier=classifier, data=generate(func1, 100, 10))"
      ],
      "metadata": {
        "id": "Nmlzq3tRmsNr"
      },
      "execution_count": null,
      "outputs": []
    },
    {
      "cell_type": "code",
      "source": [
        "classifier = svm(data=generate(func1, 100, 10), kernel=\"poly\", degree=3, C=10)\n",
        "draw_graph(classifier=classifier, data=generate(func1, 100, 10))"
      ],
      "metadata": {
        "id": "B_x8HweMu-xM"
      },
      "execution_count": null,
      "outputs": []
    },
    {
      "cell_type": "code",
      "source": [
        "classifier = svm(data=df, kernel=\"poly\", degree=5, C=10)\n",
        "draw_graph(classifier=classifier, data=df)"
      ],
      "metadata": {
        "id": "Zirz7TNBmsKj"
      },
      "execution_count": null,
      "outputs": []
    },
    {
      "cell_type": "code",
      "source": [
        "classifier = svm(data=generate(func1, 100, 10), kernel=\"rbf\")\n",
        "draw_graph(classifier=classifier, data=generate(func1, 100, 10))"
      ],
      "metadata": {
        "id": "z-XhdE_Lmr8M"
      },
      "execution_count": null,
      "outputs": []
    },
    {
      "cell_type": "code",
      "source": [
        "classifier = svm(data=df, kernel=\"rbf\", C=10)\n",
        "draw_graph(classifier=classifier, data=df)"
      ],
      "metadata": {
        "id": "zHbtFzHFukIm"
      },
      "execution_count": null,
      "outputs": []
    },
    {
      "cell_type": "markdown",
      "source": [
        "# 부록. KNN 으로 돌려보기"
      ],
      "metadata": {
        "id": "bg8PQzLxx_NC"
      }
    },
    {
      "cell_type": "code",
      "source": [
        "from sklearn import neighbors\n",
        "\n",
        "classifier = neighbors.KNeighborsClassifier(n_neighbors=5)\n",
        "classifier.fit(df[[\"x\", \"y\"]], df[\"label\"])\n",
        "draw_graph(classifier=classifier, data=df)"
      ],
      "metadata": {
        "id": "MI4JK8aEv9dT"
      },
      "execution_count": null,
      "outputs": []
    },
    {
      "cell_type": "markdown",
      "source": [
        "# 부록. 2차원 리스트 예쁘게 출력하기"
      ],
      "metadata": {
        "id": "RRgGHpvMGlfD"
      }
    },
    {
      "cell_type": "code",
      "source": [
        "import numpy as num\n",
        "import matplotlib.pyplot as plot\n",
        "import seaborn as sb\n",
        "from matplotlib.colors import ListedColormap\n",
        "from sklearn import neighbors, datasets"
      ],
      "metadata": {
        "id": "dzlk1eIeFYHf"
      },
      "execution_count": null,
      "outputs": []
    },
    {
      "cell_type": "code",
      "source": [
        "iris = datasets.load_iris()\n",
        "#iris"
      ],
      "metadata": {
        "id": "LmFoViNhFYCl"
      },
      "execution_count": null,
      "outputs": []
    },
    {
      "cell_type": "code",
      "source": [
        "X = iris.data[:, :2]\n",
        "y = iris.target\n",
        "print(X[:10],y[:10])"
      ],
      "metadata": {
        "id": "KROChJPRFX_U"
      },
      "execution_count": null,
      "outputs": []
    },
    {
      "cell_type": "markdown",
      "source": [
        "## 부록1. 2차원 리스트 예쁘게 출력하기 - 1"
      ],
      "metadata": {
        "id": "bisUN8OiUVPc"
      }
    },
    {
      "cell_type": "code",
      "source": [
        "print(\"X.Shape: \", X.shape)\n",
        "for r in range(X.shape[0]):\n",
        "  for c in range(X.shape[1]):\n",
        "    print(X[r][c], end=\" \")\n",
        "  print() # new line"
      ],
      "metadata": {
        "id": "YM2bLVlqUbfk"
      },
      "execution_count": null,
      "outputs": []
    },
    {
      "cell_type": "markdown",
      "source": [
        "## 부록2.2차원 리스트 예쁘게 출력하기 - 2 (pandas 활용)"
      ],
      "metadata": {
        "id": "st_XCj0ZU_p6"
      }
    },
    {
      "cell_type": "code",
      "source": [
        "import pandas as pd\n",
        "df = pd.DataFrame(X)\n",
        "df"
      ],
      "metadata": {
        "id": "BY94ZNGqTxeO"
      },
      "execution_count": null,
      "outputs": []
    },
    {
      "cell_type": "code",
      "source": [
        "df.describe()"
      ],
      "metadata": {
        "id": "0RZwi7bhV8kU"
      },
      "execution_count": null,
      "outputs": []
    },
    {
      "cell_type": "code",
      "source": [
        " df.head()"
      ],
      "metadata": {
        "id": "y5j9MQN1V-tZ"
      },
      "execution_count": null,
      "outputs": []
    },
    {
      "cell_type": "code",
      "source": [
        "df.tail()"
      ],
      "metadata": {
        "id": "vrocz3oUV_0y"
      },
      "execution_count": null,
      "outputs": []
    },
    {
      "cell_type": "code",
      "source": [
        "df.iloc[5:10, :]"
      ],
      "metadata": {
        "id": "a2zBOGp4WOxd"
      },
      "execution_count": null,
      "outputs": []
    },
    {
      "cell_type": "code",
      "source": [
        "df.to_csv(\"data.csv\")"
      ],
      "metadata": {
        "id": "N-h6NKFmWSjY"
      },
      "execution_count": null,
      "outputs": []
    },
    {
      "cell_type": "markdown",
      "source": [
        ""
      ],
      "metadata": {
        "id": "O1W_aT6dR2bi"
      }
    }
  ]
}